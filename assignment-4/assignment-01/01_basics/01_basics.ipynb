{
  "nbformat": 4,
  "nbformat_minor": 0,
  "metadata": {
    "colab": {
      "provenance": [],
      "include_colab_link": true
    },
    "kernelspec": {
      "name": "python3",
      "display_name": "Python 3"
    },
    "language_info": {
      "name": "python"
    }
  },
  "cells": [
    {
      "cell_type": "markdown",
      "metadata": {
        "id": "view-in-github",
        "colab_type": "text"
      },
      "source": [
        "<a href=\"https://colab.research.google.com/github/Ahmed-Raza0/100-Day-Challenge/blob/main/assignment-4/assignment-01/01_basics/01_basics.ipynb\" target=\"_parent\"><img src=\"https://colab.research.google.com/assets/colab-badge.svg\" alt=\"Open In Colab\"/></a>"
      ]
    },
    {
      "cell_type": "markdown",
      "source": [
        "00_joke_bot"
      ],
      "metadata": {
        "id": "I3k55MZ5Hg-2"
      }
    },
    {
      "cell_type": "code",
      "execution_count": null,
      "metadata": {
        "colab": {
          "base_uri": "https://localhost:8080/"
        },
        "id": "HopXK-Qsh1B-",
        "outputId": "eba93431-5eae-4038-f5a8-6c792e34833a"
      },
      "outputs": [
        {
          "output_type": "stream",
          "name": "stdout",
          "text": [
            "What do you want? hahah\n",
            "Sorry I only tell jokes\n"
          ]
        }
      ],
      "source": [
        "def main():\n",
        "    PROMPT = \"What do you want? \"\n",
        "    JOKE = (\"Here is a joke for you! Panaversity GPT - Sophia is heading out to the grocery store. \"\n",
        "            \"A programmer tells her: get a liter of milk, and if they have eggs, get 12. \"\n",
        "            \"Sophia returns with 13 liters of milk. The programmer asks why and Sophia replies: 'because they had eggs'\")\n",
        "    SORRY = \"Sorry I only tell jokes\"\n",
        "\n",
        "    user_input = input(PROMPT)\n",
        "    if user_input == \"Joke\":\n",
        "        print(JOKE)\n",
        "    else:\n",
        "        print(SORRY)\n",
        "\n",
        "if __name__ == '__main__':\n",
        "    main()\n"
      ]
    },
    {
      "cell_type": "markdown",
      "source": [
        "01_double_it"
      ],
      "metadata": {
        "id": "be3Eoz3oIBpA"
      }
    },
    {
      "cell_type": "code",
      "source": [
        "def main():\n",
        "    curr_value = int(input(\"Enter a number: \"))\n",
        "    curr_value = curr_value * 2\n",
        "    while curr_value < 100:\n",
        "        print(curr_value, end=' ')\n",
        "        curr_value = curr_value * 2\n",
        "    print(curr_value)\n",
        "\n",
        "if __name__ == '__main__':\n",
        "    main()\n"
      ],
      "metadata": {
        "colab": {
          "base_uri": "https://localhost:8080/"
        },
        "id": "0BtckT4zH8Zn",
        "outputId": "521d568d-6426-4fa5-b19f-29f60ce31eab"
      },
      "execution_count": null,
      "outputs": [
        {
          "output_type": "stream",
          "name": "stdout",
          "text": [
            "Enter a number: 2\n",
            "4 8 16 32 64 128\n"
          ]
        }
      ]
    },
    {
      "cell_type": "markdown",
      "source": [
        "02_liftoff"
      ],
      "metadata": {
        "id": "ijhZ0pPsIfRH"
      }
    },
    {
      "cell_type": "code",
      "source": [
        "def main():\n",
        "    for i in range(10):\n",
        "        print(10 - i, end=' ')\n",
        "    print(\"Liftoff!\")\n",
        "\n",
        "\n",
        "if __name__ == '__main__':\n",
        "    main()\n"
      ],
      "metadata": {
        "colab": {
          "base_uri": "https://localhost:8080/"
        },
        "id": "WgWA4EtmJD6B",
        "outputId": "ea634c16-7fca-428e-b253-dca0a352233f"
      },
      "execution_count": null,
      "outputs": [
        {
          "output_type": "stream",
          "name": "stdout",
          "text": [
            "10 9 8 7 6 5 4 3 2 1 Liftoff!\n"
          ]
        }
      ]
    },
    {
      "cell_type": "markdown",
      "source": [
        "03_guess_my_number"
      ],
      "metadata": {
        "id": "Ih_cA0CLJUC9"
      }
    },
    {
      "cell_type": "code",
      "source": [
        "import random\n",
        "\n",
        "def main():\n",
        "    secret_number = random.randint(0, 19)\n",
        "    guess = int(input(\"I am thinking of a number between 0 and 99... Enter a guess: \"))\n",
        "\n",
        "    while guess != secret_number:\n",
        "        if guess > secret_number:\n",
        "            print(\"Your guess is too high\")\n",
        "        else:\n",
        "            print(\"Your guess is too low\")\n",
        "        guess = int(input(\"Enter a new number: \"))\n",
        "\n",
        "    print(f\"Congrats! The number was: {secret_number}\")\n",
        "\n",
        "if __name__ == '__main__':\n",
        "    main()\n"
      ],
      "metadata": {
        "colab": {
          "base_uri": "https://localhost:8080/"
        },
        "id": "K-cVHxexJajm",
        "outputId": "b133cadb-dfb2-43db-e942-f2d88a322ad1"
      },
      "execution_count": null,
      "outputs": [
        {
          "output_type": "stream",
          "name": "stdout",
          "text": [
            "I am thinking of a number between 0 and 99... Enter a guess: 5\n",
            "Your guess is too low\n",
            "Enter a new number: 12\n",
            "Your guess is too low\n",
            "Enter a new number: 19\n",
            "Your guess is too high\n",
            "Enter a new number: 18\n",
            "Your guess is too high\n",
            "Enter a new number: 10\n",
            "Your guess is too low\n",
            "Enter a new number: 12\n",
            "Your guess is too low\n",
            "Enter a new number: 14\n",
            "Your guess is too low\n",
            "Enter a new number: 17\n",
            "Your guess is too high\n",
            "Enter a new number: 16\n",
            "Congrats! The number was: 16\n"
          ]
        }
      ]
    },
    {
      "cell_type": "markdown",
      "source": [
        "04_random_numbers"
      ],
      "metadata": {
        "id": "suunp6mBJspP"
      }
    },
    {
      "cell_type": "markdown",
      "source": [],
      "metadata": {
        "id": "tQOq8u4Zh-UD"
      }
    },
    {
      "cell_type": "code",
      "source": [
        "import random\n",
        "\n",
        "def main():\n",
        "    for _ in range(10):\n",
        "        print(random.randint(1, 100), end=' ')\n",
        "\n",
        "if __name__ == '__main__':\n",
        "    main()\n"
      ],
      "metadata": {
        "id": "lU-o4EiLJ1Lq",
        "outputId": "b9f42ac9-3a79-414e-cd0e-fd9edd72d39f",
        "colab": {
          "base_uri": "https://localhost:8080/"
        }
      },
      "execution_count": null,
      "outputs": [
        {
          "output_type": "stream",
          "name": "stdout",
          "text": [
            "13 100 15 52 22 99 95 15 54 30 "
          ]
        }
      ]
    }
  ]
}