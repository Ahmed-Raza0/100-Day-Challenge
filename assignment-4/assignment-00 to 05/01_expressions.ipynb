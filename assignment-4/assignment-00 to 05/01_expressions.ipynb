{
  "cells": [
    {
      "cell_type": "markdown",
      "metadata": {
        "id": "view-in-github",
        "colab_type": "text"
      },
      "source": [
        "<a href=\"https://colab.research.google.com/github/Ahmed-Raza0/100-Day-Challenge/blob/main/assignment-4/assignment-00%20to%2005/01_expressions.ipynb\" target=\"_parent\"><img src=\"https://colab.research.google.com/assets/colab-badge.svg\" alt=\"Open In Colab\"/></a>"
      ]
    },
    {
      "cell_type": "code",
      "execution_count": null,
      "metadata": {
        "colab": {
          "base_uri": "https://localhost:8080/"
        },
        "id": "xxmkmA62VVV6",
        "outputId": "ac17dd18-b2a0-4e95-d60a-4211614df582"
      },
      "outputs": [
        {
          "name": "stdout",
          "output_type": "stream",
          "text": [
            "Roll 1: Die 1 = 2, Die 2 = 2\n",
            "Roll 2: Die 1 = 2, Die 2 = 6\n",
            "Roll 3: Die 1 = 5, Die 2 = 3\n"
          ]
        }
      ],
      "source": [
        "import random\n",
        "\n",
        "def roll_dice():\n",
        "    # Local variables inside the function\n",
        "    die1 = random.randint(1, 6)\n",
        "    die2 = random.randint(1, 6)\n",
        "    return die1, die2\n",
        "\n",
        "# Roll the dice three times\n",
        "for i in range(1, 4):\n",
        "    die1, die2 = roll_dice()  # Function call\n",
        "    print(f\"Roll {i}: Die 1 = {die1}, Die 2 = {die2}\")\n"
      ]
    },
    {
      "cell_type": "code",
      "execution_count": null,
      "metadata": {
        "colab": {
          "background_save": true,
          "base_uri": "https://localhost:8080/"
        },
        "id": "5gym02Z3WgkK",
        "outputId": "8645bc91-f5ad-4f5b-9584-4c2270dc09b4"
      },
      "outputs": [
        {
          "name": "stdout",
          "output_type": "stream",
          "text": [
            "\n",
            "e = m * C^2...\n",
            "\n",
            "m = 56.0 kg\n",
            "C = 299792458 m/s\n",
            "\n",
            "5.033029000926178e+18 joules of energy!\n",
            "\n",
            "\n",
            "e = m * C^2...\n",
            "\n",
            "m = 56.0 kg\n",
            "C = 299792458 m/s\n",
            "\n",
            "5.033029000926178e+18 joules of energy!\n",
            "\n"
          ]
        }
      ],
      "source": [
        "# Define the speed of light constant\n",
        "C = 299792458  # meters per second\n",
        "\n",
        "while True:\n",
        "    # Prompt the user for mass\n",
        "    mass = float(input(\"Enter kilos of mass: \"))\n",
        "\n",
        "    # Calculate energy using E = m * C^2\n",
        "    energy = mass * C**2\n",
        "\n",
        "    # Print the detailed output\n",
        "    print(\"\\ne = m * C^2...\\n\")\n",
        "    print(f\"m = {mass} kg\")\n",
        "    print(f\"C = {C} m/s\\n\")\n",
        "    print(f\"{energy} joules of energy!\\n\")\n",
        "\n",
        "    # Ask if the user wants to continue\n",
        "    cont = input(\"Would you like to enter another mass? (yes/no): \").strip().lower()\n",
        "    if cont != 'yes':\n",
        "        break\n"
      ]
    },
    {
      "cell_type": "code",
      "execution_count": null,
      "metadata": {
        "id": "TCHMSd1gZWQ6"
      },
      "outputs": [],
      "source": [
        "# Constant for inches per foot\n",
        "INCHES_PER_FOOT = 12\n",
        "\n",
        "# Prompt the user to enter feet\n",
        "feet = float(input(\"Enter length in feet: \"))\n",
        "\n",
        "# Convert to inches\n",
        "inches = feet * INCHES_PER_FOOT\n",
        "\n",
        "# Determine singular or plural form\n",
        "unit = \"foot\" if feet == 1 else \"feet\"\n",
        "\n",
        "# Print the result\n",
        "print(f\"{feet} {unit} is {inches} inches.\")\n"
      ]
    },
    {
      "cell_type": "code",
      "source": [
        "import math  # Import math module for square root function\n",
        "\n",
        "# Prompt the user for the two perpendicular side lengths\n",
        "ab = float(input(\"Enter the length of AB: \"))\n",
        "ac = float(input(\"Enter the length of AC: \"))\n",
        "\n",
        "# Calculate the hypotenuse using the Pythagorean theorem\n",
        "bc = math.sqrt(ab**2 + ac**2)\n",
        "\n",
        "# Print the result\n",
        "print(f\"The length of BC (the hypotenuse) is: {bc}\")\n"
      ],
      "metadata": {
        "colab": {
          "base_uri": "https://localhost:8080/"
        },
        "id": "l7PZEXUcbCRS",
        "outputId": "f024cc66-cb7c-43ef-cbe1-3d4c0fece89f"
      },
      "execution_count": null,
      "outputs": [
        {
          "output_type": "stream",
          "name": "stdout",
          "text": [
            "Enter the length of AB: 45\n",
            "Enter the length of AC: 67\n",
            "The length of BC (the hypotenuse) is: 80.7093550959243\n"
          ]
        }
      ]
    },
    {
      "cell_type": "code",
      "source": [
        "# Prompt the user for two numbers\n",
        "num1 = int(input(\"Please enter an integer to be divided: \"))\n",
        "num2 = int(input(\"Please enter an integer to divide by: \"))\n",
        "\n",
        "# Perform the division and calculate the remainder\n",
        "quotient = num1 // num2\n",
        "remainder = num1 % num2\n",
        "\n",
        "# Print the result\n",
        "print(f\"The result of this division is {quotient} with a remainder of {remainder}\")\n"
      ],
      "metadata": {
        "colab": {
          "base_uri": "https://localhost:8080/"
        },
        "id": "diWkuJMFbQNX",
        "outputId": "bce23eea-9253-498d-f0ae-0ed1b9d2317b"
      },
      "execution_count": null,
      "outputs": [
        {
          "output_type": "stream",
          "name": "stdout",
          "text": [
            "Please enter an integer to be divided: 35\n",
            "Please enter an integer to divide by: 67\n",
            "The result of this division is 0 with a remainder of 35\n"
          ]
        }
      ]
    },
    {
      "cell_type": "code",
      "source": [
        "import random\n",
        "\n",
        "# Simulate rolling two dice\n",
        "die1 = random.randint(1, 6)\n",
        "die2 = random.randint(1, 6)\n",
        "\n",
        "# Calculate the total\n",
        "total = die1 + die2\n",
        "\n",
        "# Print the results\n",
        "print(f\"Roll 1: {die1}\")\n",
        "print(f\"Roll 2: {die2}\")\n",
        "print(f\"Total: {total}\")\n"
      ],
      "metadata": {
        "colab": {
          "base_uri": "https://localhost:8080/"
        },
        "id": "m17HAW7KbcWJ",
        "outputId": "c1907a79-6e43-4a69-9350-ef833c7d0ee0"
      },
      "execution_count": null,
      "outputs": [
        {
          "output_type": "stream",
          "name": "stdout",
          "text": [
            "Roll 1: 5\n",
            "Roll 2: 1\n",
            "Total: 6\n"
          ]
        }
      ]
    },
    {
      "cell_type": "code",
      "source": [
        "# Define constants\n",
        "DAYS_IN_YEAR = 365\n",
        "HOURS_IN_DAY = 24\n",
        "MINUTES_IN_HOUR = 60\n",
        "SECONDS_IN_MINUTE = 60\n",
        "\n",
        "# Calculate the number of seconds in a year\n",
        "seconds_in_year = DAYS_IN_YEAR * HOURS_IN_DAY * MINUTES_IN_HOUR * SECONDS_IN_MINUTE\n",
        "\n",
        "# Print the result\n",
        "print(f\"There are {seconds_in_year} seconds in a year!\")\n"
      ],
      "metadata": {
        "colab": {
          "base_uri": "https://localhost:8080/"
        },
        "id": "t8eWEWfSbooz",
        "outputId": "2f70acda-cbec-48a7-8dec-73b90442b3bc"
      },
      "execution_count": null,
      "outputs": [
        {
          "output_type": "stream",
          "name": "stdout",
          "text": [
            "There are 31536000 seconds in a year!\n"
          ]
        }
      ]
    },
    {
      "cell_type": "code",
      "source": [
        "# Constants\n",
        "SENTENCE_START = \"Code in Place is fun. I learned to program and used Python to make my\"\n",
        "\n",
        "# Prompt the user for an adjective, noun, and verb\n",
        "adjective = input(\"Please type an adjective and press enter: \")\n",
        "noun = input(\"Please type a noun and press enter: \")\n",
        "verb = input(\"Please type a verb and press enter: \")\n",
        "\n",
        "# Construct and print the final sentence\n",
        "print(f\"{SENTENCE_START} {adjective} {noun} {verb}!\")\n"
      ],
      "metadata": {
        "colab": {
          "base_uri": "https://localhost:8080/"
        },
        "id": "OxYK7G5rb2i5",
        "outputId": "891d9d72-aa25-469d-a5b8-fefa77818d7e"
      },
      "execution_count": null,
      "outputs": [
        {
          "output_type": "stream",
          "name": "stdout",
          "text": [
            "Please type an adjective and press enter: is\n",
            "Please type a noun and press enter: plcce\n",
            "Please type a verb and press enter: and\n",
            "Code in Place is fun. I learned to program and used Python to make my is plcce and!\n"
          ]
        }
      ]
    }
  ],
  "metadata": {
    "colab": {
      "provenance": [],
      "include_colab_link": true
    },
    "kernelspec": {
      "display_name": "Python 3",
      "name": "python3"
    },
    "language_info": {
      "name": "python"
    }
  },
  "nbformat": 4,
  "nbformat_minor": 0
}